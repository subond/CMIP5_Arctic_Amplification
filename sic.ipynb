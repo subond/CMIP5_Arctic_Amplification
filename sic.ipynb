{
 "cells": [
  {
   "cell_type": "code",
   "execution_count": 1,
   "metadata": {},
   "outputs": [],
   "source": [
    "# import libraries\n",
    "import xarray as xr\n",
    "import numpy as np\n",
    "import matplotlib.pyplot as plt\n",
    "import xesmf as xe\n",
    "import cartopy.crs as ccrs\n",
    "from cartopy.mpl.geoaxes import GeoAxes\n",
    "from cartopy.mpl.ticker import LongitudeFormatter, LatitudeFormatter\n",
    "import matplotlib.colors as colors\n",
    "from dask.diagnostics import ProgressBar\n",
    "%matplotlib inline\n",
    "%config InlineBackend.figure_format = \"pdf\""
   ]
  },
  {
   "cell_type": "code",
   "execution_count": 2,
   "metadata": {},
   "outputs": [
    {
     "name": "stdout",
     "output_type": "stream",
     "text": [
      "ACCESS1-0\n",
      "[########################################] | 100% Completed |  0.9s\n",
      "[########################################] | 100% Completed |  2.4s\n",
      "ACCESS1-3\n",
      "[########################################] | 100% Completed |  0.9s\n",
      "[########################################] | 100% Completed |  2.3s\n",
      "CNRM-CM5\n",
      "[########################################] | 100% Completed |  0.9s\n",
      "[########################################] | 100% Completed |  2.5s\n",
      "IPSL-CM5B-LR\n",
      "[########################################] | 100% Completed |  0.4s\n",
      "[########################################] | 100% Completed |  0.7s\n",
      "GFDL-ESM2G\n",
      "[########################################] | 100% Completed |  1.0s\n",
      "[########################################] | 100% Completed |  1.2s\n",
      "MIROC-ESM\n",
      "[########################################] | 100% Completed |  0.5s\n",
      "[########################################] | 100% Completed |  1.3s\n",
      "FGOALS-g2\n",
      "[########################################] | 100% Completed |  0.4s\n",
      "[########################################] | 100% Completed |  0.7s\n",
      "bcc-csm1-1\n",
      "[########################################] | 100% Completed |  0.8s\n",
      "[########################################] | 100% Completed |  2.0s\n",
      "BNU-ESM\n",
      "[########################################] | 100% Completed |  0.6s\n",
      "[########################################] | 100% Completed |  1.7s\n",
      "CanESM2\n",
      "[########################################] | 100% Completed |  0.1s\n",
      "[########################################] | 100% Completed |  0.3s\n",
      "CCSM4\n",
      "[########################################] | 100% Completed |  1.0s\n",
      "[########################################] | 100% Completed |  2.9s\n",
      "CSIRO-Mk3-6-0\n",
      "[########################################] | 100% Completed |  0.2s\n",
      "[########################################] | 100% Completed |  0.5s\n",
      "FGOALS-s2\n",
      "[########################################] | 100% Completed |  8.9s\n",
      "[########################################] | 100% Completed |  1.7s\n",
      "MIROC5\n",
      "[########################################] | 100% Completed |  0.6s\n",
      "[########################################] | 100% Completed |  1.3s\n",
      "MPI-ESM-LR\n",
      "[########################################] | 100% Completed |  0.6s\n",
      "[########################################] | 100% Completed |  1.4s\n",
      "MPI-ESM-P\n",
      "[########################################] | 100% Completed |  0.6s\n",
      "[########################################] | 100% Completed |  1.4s\n",
      "MRI-CGCM3\n",
      "[########################################] | 100% Completed |  1.2s\n",
      "[########################################] | 100% Completed |  3.2s\n",
      "NorESM1-M\n",
      "[########################################] | 100% Completed |  1.0s\n",
      "[########################################] | 100% Completed |  2.9s\n"
     ]
    }
   ],
   "source": [
    "diff_list = []\n",
    "perc_list = []\n",
    "models = ['ACCESS1-0','ACCESS1-3','CNRM-CM5','IPSL-CM5B-LR', 'GFDL-ESM2G',\n",
    "         'MIROC-ESM', 'FGOALS-g2','bcc-csm1-1','BNU-ESM','CanESM2','CCSM4',\n",
    "          'CSIRO-Mk3-6-0','FGOALS-s2','MIROC5','MPI-ESM-LR','MPI-ESM-P','MRI-CGCM3','NorESM1-M']\n",
    "for mod in models:\n",
    "    print(mod)\n",
    "    # read in last 50 years of piControl\n",
    "    sic = xr.open_mfdataset('/dx07/tylerj/CMIP5_output/piControl/sic_OImon_'+mod+'_*.nc',\n",
    "                              parallel=True,combine='by_coords',use_cftime=True).sic.isel(time=\n",
    "                                                                          slice(-600,None))/100\n",
    "    areacello = xr.open_mfdataset('/dx07/tylerj/CMIP5_output/piControl/areacello_fx_'+mod+'_*.nc',\n",
    "                              parallel=True,combine='by_coords',use_cftime=True).areacello\n",
    "    if(mod in ['CanESM2','CSIRO-Mk3-6-0']):\n",
    "        areacello = xr.open_mfdataset('/dx07/tylerj/CMIP5_output/piControl/areacella_fx_'+mod+'_*.nc',\n",
    "                              parallel=True,combine='by_coords',use_cftime=True).areacella\n",
    "    if(mod in ['FGOALS-g2','FGOALS-s2','BNU-ESM','CSIRO-Mk3-6-0']):\n",
    "        if(mod=='FGOALS-s2'):\n",
    "            sic = sic.isel(lon=slice(1,None))\n",
    "        areacello['lat'] = sic.lat\n",
    "        areacello['lon'] = sic.lon\n",
    "    sia = np.sum((sic.where(sic.lat>0) * areacello.where(areacello.lat>0)),axis=[1,2])\n",
    "    clim = sia.groupby(sia.time.dt.month).mean(dim='time')\n",
    "    \n",
    "    sic = xr.open_mfdataset('/dx07/tylerj/CMIP5_output/abrupt4xCO2/sic_OImon_'+mod+'_*.nc',\n",
    "                              parallel=True,combine='by_coords',use_cftime=True).sic.isel(time=\n",
    "                                                                          slice(None,1800))/100\n",
    "    sia = np.sum((sic.where(sic.lat>0) * areacello.where(areacello.lat>0)),axis=[1,2])\n",
    "    \n",
    "    with ProgressBar():\n",
    "        diff = (sia - np.tile(clim,(150))).compute()\n",
    "    \n",
    "    diff['time'] = np.arange(0,1800,1)\n",
    "    perc = (diff / np.tile(clim,(150))).compute() * 100\n",
    "    diff_list.append(diff)\n",
    "    perc_list.append(perc)\n",
    "\n",
    "diff = xr.concat(diff_list,dim='model')\n",
    "perc = xr.concat(perc_list,dim='model')"
   ]
  },
  {
   "cell_type": "code",
   "execution_count": 3,
   "metadata": {},
   "outputs": [
    {
     "data": {
      "application/pdf": "[encoded data removed]",
      "text/plain": [
       "<Figure size 532.8x216 with 2 Axes>"
      ]
     },
     "metadata": {
      "needs_background": "light"
     },
     "output_type": "display_data"
    }
   ],
   "source": [
    "fig, axes = plt.subplots(ncols=2,figsize=(7.4,3))\n",
    "\n",
    "# show monthly change in SAT\n",
    "diff_mon = diff.isel(time=slice(0,12))/1e12\n",
    "perc_mon = perc.isel(time=slice(0,12))\n",
    "\n",
    "# plot away!\n",
    "axes[0].plot(diff_mon.time+1,diff_mon.mean(dim='model'),color='green')\n",
    "axes[0].fill_between(diff_mon.time+1,diff_mon.mean(dim='model')-diff_mon.std(dim='model'),\n",
    "                      diff_mon.mean(dim='model')+diff_mon.std(dim='model'),color='green',alpha=0.4)\n",
    "\n",
    "\n",
    "axes[0].set_xlim([1,12])\n",
    "axes[0].set_xticks(np.arange(1,13,1))\n",
    "axes[0].yaxis.set_tick_params(which='both', labelleft=True)\n",
    "axes[0].tick_params(labelsize=8)\n",
    "axes[0].set_ylabel('Change in sea ice area (10$^{12}$m$^2$)',fontsize=8)\n",
    "axes[0].set_xlabel('Months since 4xCO$_2$',fontsize=8)\n",
    "axes[0].grid()\n",
    "axes[0].set_title('(a) absolute change',fontsize=8)\n",
    "axes[1].set_title('(b) percent change',fontsize=8)\n",
    "\n",
    "# plot away!\n",
    "axes[1].plot(perc_mon.time+1,perc_mon.mean(dim='model'),color='green')\n",
    "axes[1].fill_between(perc_mon.time+1,perc_mon.mean(dim='model')-perc_mon.std(dim='model'),\n",
    "                      perc_mon.mean(dim='model')+perc_mon.std(dim='model'),color='green',alpha=0.4)\n",
    "\n",
    "axes[1].set_xlim([1,12])\n",
    "axes[1].set_xticks(np.arange(1,13,1))\n",
    "axes[1].yaxis.set_tick_params(which='both', labelleft=True)\n",
    "axes[1].tick_params(labelsize=8)\n",
    "axes[1].set_ylabel('% change in sea ice area',fontsize=8)\n",
    "axes[1].set_xlabel('Months since 4xCO$_2$',fontsize=8)\n",
    "axes[1].grid()\n",
    "\n",
    "plt.tight_layout()\n",
    "plt.show()\n",
    "# plt.savefig('/home/tylerj/CMIP5_AA_final/Fig_1_060820.pdf')"
   ]
  },
  {
   "cell_type": "code",
   "execution_count": 4,
   "metadata": {},
   "outputs": [],
   "source": [
    "t_3mon = diff.isel(time=slice(0,3)).mean(dim=['model','time']) / (diff.isel(time=slice(0,3)).mean(dim='time').std(dim='model') / np.sqrt(len(models)))\n",
    "t_12mon = diff.isel(time=slice(0,12)).mean(dim=['model','time']) / (diff.isel(time=slice(0,12)).mean(dim='time').std(dim='model') / np.sqrt(len(models)))"
   ]
  },
  {
   "cell_type": "code",
   "execution_count": 11,
   "metadata": {},
   "outputs": [
    {
     "data": {
      "application/pdf": "[encoded data removed]",
      "text/plain": [
       "<Figure size 273.6x216 with 1 Axes>"
      ]
     },
     "metadata": {
      "needs_background": "light"
     },
     "output_type": "display_data"
    }
   ],
   "source": [
    "# let's make a plot just of the percent change in sea ice area for the first 30 months\n",
    "\n",
    "fig, ax = plt.subplots(figsize=(3.8,3))\n",
    "\n",
    "perc_mon = perc.isel(time=slice(0,30))\n",
    "\n",
    "ax.hlines(0,1,30,color='black',linestyle=':')\n",
    "\n",
    "ax.plot(perc_mon.time+1,perc_mon.mean(dim='model'),color='green')\n",
    "ax.fill_between(perc_mon.time+1,perc_mon.mean(dim='model')-perc_mon.std(dim='model'),\n",
    "                      perc_mon.mean(dim='model')+perc_mon.std(dim='model'),color='green',alpha=0.4)\n",
    "\n",
    "ax.set_xlim([1,30])\n",
    "ax.set_xticks(np.arange(3,31,3))\n",
    "ax.yaxis.set_tick_params(which='both', labelleft=True)\n",
    "ax.tick_params(labelsize=8)\n",
    "ax.set_ylabel('% change in sea ice area',fontsize=8)\n",
    "ax.set_xlabel('Months since 4xCO$_2$',fontsize=8)\n",
    "ax.grid()\n",
    "\n",
    "\n",
    "plt.tight_layout()\n",
    "# plt.show()\n",
    "plt.savefig('/home/tylerj/CMIP5_AA_final/perc_change_sia_062320.pdf')"
   ]
  },
  {
   "cell_type": "code",
   "execution_count": null,
   "metadata": {},
   "outputs": [],
   "source": []
  }
 ],
 "metadata": {
  "kernelspec": {
   "display_name": "Python 3",
   "language": "python",
   "name": "python3"
  },
  "language_info": {
   "codemirror_mode": {
    "name": "ipython",
    "version": 3
   },
   "file_extension": ".py",
   "mimetype": "text/x-python",
   "name": "python",
   "nbconvert_exporter": "python",
   "pygments_lexer": "ipython3",
   "version": "3.7.6"
  }
 },
 "nbformat": 4,
 "nbformat_minor": 4
}
