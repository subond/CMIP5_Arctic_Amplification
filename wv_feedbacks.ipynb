{
 "cells": [
  {
   "cell_type": "code",
   "execution_count": 1,
   "metadata": {},
   "outputs": [],
   "source": [
    "# In this script, we will read in CMIP5 abrupt4xCO2 and piControl air (3D) and surface (2D)\n",
    "# temperature to calculate LW and SW water vapor feedbacks\n",
    "\n",
    "# By: Ty Janoski\n",
    "# Last edited: 05.29.20"
   ]
  },
  {
   "cell_type": "code",
   "execution_count": 2,
   "metadata": {},
   "outputs": [],
   "source": [
    "# Import statements\n",
    "\n",
    "import xarray as xr\n",
    "import dask.array as da\n",
    "import numpy as np\n",
    "import matplotlib.pyplot as plt\n",
    "import scipy.io as io\n",
    "from dask.diagnostics import ProgressBar\n",
    "import xesmf as xe\n",
    "import netCDF4 as nc\n",
    "import glob\n",
    "%matplotlib inline"
   ]
  },
  {
   "cell_type": "code",
   "execution_count": 3,
   "metadata": {},
   "outputs": [],
   "source": [
    "# start by reading in the water vapor kernel\n",
    "q_kern = xr.open_dataset('/dx05/tylerj/d10/Arctic_Research/CMIP5_Arctic_Amplification/\\\n",
    "CAM5_kernels/q.kernel.plev.nc')\n",
    "lats = q_kern.lat\n",
    "lons = q_kern.lon\n",
    "# some models have higher vertical resolution than the kernels. We only need 17 levels\n",
    "plevs = [float(p) for p in q_kern.plev]\n",
    "\n",
    "# create a dataset with lat/lons for regridding\n",
    "ds_out = xr.Dataset({'lat': (['lat'], lats),\n",
    "                     'lon': (['lon'], lons),\n",
    "                    }\n",
    "                   )\n",
    "\n",
    "norm_factor = io.loadmat('/dx05/tylerj/d10/Arctic_Research/CMIP5_Arctic_Amplification/'+\n",
    "                         'CAM5_kernels/CAM5_qkernel_normfactor_plev_v3.mat')['dlogqdt_new']\n",
    "norm_factor = np.transpose(norm_factor,(3,2,1,0))\n",
    "\n",
    "norm_factor = da.tile(norm_factor,(150,1,1,1))\n",
    "FLNT = da.tile(q_kern.FLNT,(150,1,1,1))/norm_factor\n",
    "FLNTC = da.tile(q_kern.FLNTC,(150,1,1,1))/norm_factor\n",
    "FSNT = da.tile(q_kern.FSNT,(150,1,1,1))/norm_factor\n",
    "FSNTC = da.tile(q_kern.FSNTC,(150,1,1,1))/norm_factor"
   ]
  },
  {
   "cell_type": "code",
   "execution_count": 4,
   "metadata": {},
   "outputs": [
    {
     "name": "stdout",
     "output_type": "stream",
     "text": [
      "MIROC-ESM\n",
      "Reuse existing file: bilinear_64x128_192x288_peri.nc\n",
      "[#                                       ] | 4% Completed |  9.6s"
     ]
    },
    {
     "name": "stderr",
     "output_type": "stream",
     "text": [
      "/home/tylerj/miniconda3/envs/xesmf_env/lib/python3.7/site-packages/dask/array/numpy_compat.py:40: RuntimeWarning: invalid value encountered in true_divide\n",
      "  x = np.divide(x1, x2, out)\n"
     ]
    },
    {
     "name": "stdout",
     "output_type": "stream",
     "text": [
      "[###########                             ] | 29% Completed | 19.3s"
     ]
    },
    {
     "name": "stderr",
     "output_type": "stream",
     "text": [
      "/home/tylerj/miniconda3/envs/xesmf_env/lib/python3.7/site-packages/dask/core.py:119: RuntimeWarning: invalid value encountered in log\n",
      "  return func(*args2)\n"
     ]
    },
    {
     "name": "stdout",
     "output_type": "stream",
     "text": [
      "[#############                           ] | 32% Completed | 20.6s"
     ]
    },
    {
     "name": "stderr",
     "output_type": "stream",
     "text": [
      "/home/tylerj/miniconda3/envs/xesmf_env/lib/python3.7/site-packages/dask/core.py:119: RuntimeWarning: divide by zero encountered in log\n",
      "  return func(*args2)\n"
     ]
    },
    {
     "name": "stdout",
     "output_type": "stream",
     "text": [
      "[########################################] | 100% Completed | 23.7s\n"
     ]
    }
   ],
   "source": [
    "models = ['ACCESS1-0','ACCESS1-3','CNRM-CM5','IPSL-CM5B-LR', 'GFDL-ESM2G',\n",
    "         'MIROC-ESM', 'FGOALS-g2','bcc-csm1-1','BNU-ESM','CanESM2','CCSM4',\n",
    "          'CSIRO-Mk3-6-0','FGOALS-s2','GFDL-CM3','inmcm4',\n",
    "         'IPSL-CM5A-LR','MIROC5','MPI-ESM-LR','MPI-ESM-P','MRI-CGCM3','NorESM1-M']\n",
    "for mod in models:\n",
    "    print(mod)\n",
    "    if mod in ['ACCESS1-0','ACCESS1-3','CNRM-CM5','IPSL-CM5B-LR', 'GFDL-ESM2G',\n",
    "         'MIROC-ESM', 'FGOALS-g2']:\n",
    "        # read in air/surface temperature from last 50 years of piControl\n",
    "        hus = xr.open_mfdataset('/dx07/tylerj/CMIP5_output/piControl/hus_Amon_'+mod+'_*.nc',\n",
    "                                  parallel=True,combine='by_coords',\n",
    "                              use_cftime=True).hus.isel(\n",
    "            time=slice(-600,None)).sel(plev=plevs)\n",
    "    else:\n",
    "        path = glob.glob('/dx07/tylerj/CMIP5_output/piControl/hus_Amon_'+mod+'*.nc')[0]\n",
    "        hus = xr.open_dataset(path,use_cftime=True).hus.isel(\n",
    "            time=slice(-600,None)).sel(plev=plevs)\n",
    "    \n",
    "    # make climatology\n",
    "    clim = hus.groupby(hus.time.dt.month).mean(dim='time')\n",
    "    \n",
    "    # read in first 150 years of abrupt4xCO2\n",
    "    if mod in ['ACCESS1-0','ACCESS1-3','CNRM-CM5','IPSL-CM5B-LR', 'GFDL-ESM2G',\n",
    "         'MIROC-ESM', 'FGOALS-g2']:\n",
    "        hus = xr.open_mfdataset('/dx07/tylerj/CMIP5_output/abrupt4xCO2/hus_Amon_'+mod+'_*.nc',\n",
    "                                  parallel=True,combine='by_coords',\n",
    "                              use_cftime=True).hus.isel(\n",
    "            time=slice(None,1800)).sel(plev=plevs)\n",
    "    else:\n",
    "        path = glob.glob('/dx07/tylerj/CMIP5_output/abrupt4xCO2/hus_Amon_'+mod+'*.nc')[0]\n",
    "        hus = xr.open_dataset(path,use_cftime=True).hus.isel(\n",
    "            time=slice(None,1800)).sel(plev=plevs)\n",
    "    \n",
    "    # take difference abrupt4xCO2 - climatology\n",
    "    dhus = da.log(hus) - da.log(da.tile(clim,(150,1,1,1)))\n",
    "    dhus = dhus.where(xr.ufuncs.isfinite(dhus),np.nan)\n",
    "    \n",
    "    # load in layer thickness, calculated in dz.ipynb\n",
    "    dz = da.array(xr.open_dataset('/dx07/tylerj/CMIP5_output/CMIP5_feedbacks/'+mod+\n",
    "                           '_dz.nc',\n",
    "                          use_cftime=True).dz.isel(\n",
    "        time=slice(None,1800)))\n",
    "    \n",
    "    # regrid to CAM5 horizontal grid\n",
    "    regridder = xe.Regridder(dhus,ds_out,'bilinear',periodic=True,reuse_weights=True)\n",
    "    with ProgressBar():\n",
    "        dq = regridder(dhus.compute()) * dz\n",
    "        \n",
    "    del dhus, dz, hus, clim\n",
    "    \n",
    "    # now we can calculate feedbacks\n",
    "    LWAS = ((dq * FLNT)/-100).sum(dim='plev')\n",
    "    LWCS = ((dq * FLNTC)/-100).sum(dim='plev')\n",
    "    SWAS = ((dq * FSNT)/100).sum(dim='plev')\n",
    "    SWCS = ((dq * FSNTC)/100).sum(dim='plev')\n",
    "    del dq\n",
    "    NETAS = LWAS + SWAS\n",
    "    NETCS = LWCS + SWCS\n",
    "    out = xr.merge([LWAS.rename('wv_LWAS'),LWCS.rename('wv_LWCS'),SWAS.rename('wv_SWAS'),\n",
    "                 SWCS.rename('wv_SWCS'),NETAS.rename('wv_NETAS'),NETCS.rename('wv_NETCS')])\n",
    "    out.to_netcdf('/dx07/tylerj/CMIP5_output/CMIP5_feedbacks/'+\n",
    "                                           mod+'_wv.nc')\n",
    "    del out, LWAS, LWCS, SWAS, SWCS, NETAS, NETCS"
   ]
  }
 ],
 "metadata": {
  "kernelspec": {
   "display_name": "Python 3",
   "language": "python",
   "name": "python3"
  },
  "language_info": {
   "codemirror_mode": {
    "name": "ipython",
    "version": 3
   },
   "file_extension": ".py",
   "mimetype": "text/x-python",
   "name": "python",
   "nbconvert_exporter": "python",
   "pygments_lexer": "ipython3",
   "version": "3.7.6"
  }
 },
 "nbformat": 4,
 "nbformat_minor": 4
}
